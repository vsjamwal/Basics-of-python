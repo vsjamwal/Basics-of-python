{
 "cells": [
  {
   "cell_type": "code",
   "execution_count": 4,
   "metadata": {},
   "outputs": [],
   "source": [
    "import numpy as np\n",
    "from scipy.stats import norm\n",
    "import numpy.matlib\n",
    "from scipy.stats import uniform\n",
    "import matplotlib.pyplot as plt\n",
    "import random\n",
    "from scipy import stats"
   ]
  },
  {
   "cell_type": "code",
   "execution_count": 2,
   "metadata": {},
   "outputs": [],
   "source": [
    "#Market Information as per the data \n",
    "risk_free = 0.08\n",
    "\n",
    "#Share Specific Information \n",
    "S_0 = 100\n",
    "sigma = 0.3\n",
    "\n",
    "#Up and Out Call option specific information\n",
    "strike = 100\n",
    "T = 1\n",
    "barrier = 150\n",
    "\n",
    "#Firm Specific Information for pricing \n",
    "# we are Assuming Initial value of the Firm as = 200\n",
    "V_0 = 200\n",
    "sigma_firm = 0.25\n",
    "debt = 175\n",
    "recovery_rate = 0.25\n",
    "correlation = 0.2\n",
    "\n",
    "#Simulation specific information\n",
    "#Monthly Simulation for the lifetime of the option \n",
    "n_steps = 12\n"
   ]
  },
  {
   "cell_type": "code",
   "execution_count": 6,
   "metadata": {},
   "outputs": [
    {
     "name": "stdout",
     "output_type": "stream",
     "text": [
      "The Vanilla European call price is : 15.711\n"
     ]
    }
   ],
   "source": [
    "#Question 4: Regular call option price\n",
    "def bs_call(S0,K,T,r,vol):\n",
    "    \"\"\"\n",
    "       Returns: Call value under Black-Schole-Merton option model\n",
    "    \"\"\"    \n",
    "    d1=(np.log(S0/K)+(r+vol**2/2)*T)/(vol*np.sqrt(T))\n",
    "    d2 = d1-vol*np.sqrt(T)\n",
    "    return S0*stats.norm.cdf(d1)-K*np.exp(-r*T)*stats.norm.cdf(d2)\n",
    "\n",
    "# result:\n",
    "print(\"The Vanilla European call price is : \" + str(round(bs_call(S_0,strike,T,risk_free,sigma),3)))"
   ]
  },
  {
   "cell_type": "code",
   "execution_count": 12,
   "metadata": {},
   "outputs": [
    {
     "data": {
      "text/plain": [
       "5.312942876953661"
      ]
     },
     "execution_count": 12,
     "metadata": {},
     "output_type": "execute_result"
    }
   ],
   "source": [
    "#Question 5: Up and out call option price\n",
    "#Analytical solution for vanilla call option\n",
    "def bs_call1(S,X):\n",
    "    \"\"\"\n",
    "       Returns: Call value under Black-Schole-Merton option model\n",
    "       Format   : bs_call(S,X,T,r,sigma)\n",
    "               S: current stock price\n",
    "               X: exercise price\n",
    "               T: maturity date in years\n",
    "              rf: risk-free rate (continusouly compounded)\n",
    "           sigma: volatiity of underlying security \n",
    "    \"\"\"    \n",
    "    d1=(np.log(S/X)+(risk_free+sigma**2/2)*T)/(sigma*np.sqrt(T))\n",
    "    d2 = d1-sigma*np.sqrt(T)\n",
    "    return S*stats.norm.cdf(d1)-X*np.exp(-risk_free*T)*stats.norm.cdf(d2)\n",
    "\n",
    "def d2(S, X):\n",
    "    return (np.log(S/X)+(risk_free-sigma**2/2)*T)/(sigma*np.sqrt(T))\n",
    "\n",
    "#Analytical solution for up and out call option\n",
    "def analytical_up_and_out_call(S_0, strike, barrier, risk_free, T):\n",
    "    return bs_call1(S_0, strike) - bs_call1(S_0, barrier) - (barrier - strike)*np.exp(-risk_free*T)*stats.norm.cdf(d2(S_0, barrier))-((barrier/S_0)**(2*(risk_free - sigma**2/2)/sigma**2))*(bs_call1((barrier**2/S_0), strike) - bs_call1((barrier**2/S_0), barrier)- (barrier - strike)*np.exp(-risk_free*T)*stats.norm.cdf(d2(barrier, S_0)))\n",
    "\n",
    "analytical_up_and_out_call(S_0, strike, barrier, risk_free, T)"
   ]
  },
  {
   "cell_type": "code",
   "execution_count": 267,
   "metadata": {},
   "outputs": [],
   "source": [
    "#Function for both terminal value for stock and firm\n",
    "def terminal_value(S_0, risk_free, sigma, Z, T):\n",
    "    return S_0*np.exp(np.cumsum((risk_free - sigma**2/2)*T + sigma*np.sqrt(T)*Z))\n",
    "\n",
    "#Function for calculating vanilla call option payoff\n",
    "def call_payoff(S_T, K, risk_free, T):\n",
    "    return np.exp(-risk_free*T)*np.maximum(S_T-K, 0)"
   ]
  },
  {
   "cell_type": "code",
   "execution_count": 1,
   "metadata": {},
   "outputs": [],
   "source": [
    "#Function for calculating default free up and out call option's price\n",
    "def up_and_out_call(S_0, strike, T, r, sigma, n_simulation, n_steps, barrier, corr_norm_matrix):\n",
    "    dt=T/n_steps\n",
    "    total = 0\n",
    "    S_t = [None]*n_steps\n",
    "    for j in range(0,n_simulation):\n",
    "        S_t = S_0\n",
    "        out = 0\n",
    "        Z = corr_norm_matrix[j:j+n_steps]\n",
    "        S_t = terminal_value(S_0, r, sigma, Z, dt)\n",
    "        if np.max(S_t) > barrier:\n",
    "            out = True\n",
    "        if out==False:\n",
    "            total+= call_payoff(S_t[n_steps-1], strike, r, T)\n",
    "    return total/n_simulation\n",
    "\n",
    "#Function for calculating terminal firm values from firm values path\n",
    "def firm_val(V_0, T, r, sigma_firm, n_simulation, n_steps, corr_norm_matrix):   \n",
    "    dt=T/n_steps\n",
    "    firm_term_array = [None]*n_simulation\n",
    "    for k in range(0, n_simulation):\n",
    "        Z = corr_norm_matrix[k:k+n_steps]\n",
    "        firm_path = terminal_value(V_0, r, sigma_firm, Z, dt)\n",
    "        firm_term_array[k] = firm_path[n_steps-1]\n",
    "    return firm_term_array"
   ]
  },
  {
   "cell_type": "code",
   "execution_count": 273,
   "metadata": {},
   "outputs": [],
   "source": [
    "#Question 8\n",
    "'''Creating arrays for storing cva,price of default free up and out call option and price of price of option incorporating \n",
    "counterparty default risk values'''\n",
    "cva_estimate = [None]*50\n",
    "up_and_out_call_estimate = [None]*50\n",
    "up_and_out_call_std = [None]*50\n",
    "default_up_and_out_call_estimate = [None]*50\n",
    "\n",
    "for i in range(1,51):\n",
    "    #Generating multivariate normal distributed samples for paths of stock and firm values\n",
    "    n_simulation = i*1000\n",
    "    corr_matrix = np.array([[1, correlation],[correlation, 1]])\n",
    "    norm_matrix = norm.rvs(size = np.array([2,i*1000*n_steps]))\n",
    "    corr_norm_matrix = np.matmul(np.linalg.cholesky(corr_matrix), norm_matrix)\n",
    "    \n",
    "    #Estimating default free price of up and out call option\n",
    "    value = up_and_out_call(S_0, strike, T, risk_free, sigma, n_simulation, n_steps, barrier, corr_norm_matrix[0,])  \n",
    "    up_and_out_call_estimate[i-1] = np.mean(value)\n",
    "    up_and_out_call_std[i-1] = np.std(value)/np.sqrt(1000*i)\n",
    "    \n",
    "    #Estimating CVA\n",
    "    term_firm_val = np.array(firm_val(V_0, T, risk_free, sigma_firm, n_simulation, n_steps, corr_norm_matrix[1,]))   \n",
    "    amount_lost = np.exp(-risk_free*T)*(1-recovery_rate)*(term_firm_val < debt)*up_and_out_call_estimate[i-1]\n",
    "    cva_estimate[i-1] = np.mean(amount_lost)\n",
    "    \n",
    "    #Estimating price of option incorporating counterparty risk\n",
    "    default_up_and_out_call_estimate[i-1] = up_and_out_call_estimate[i-1] - cva_estimate[i-1]"
   ]
  },
  {
   "cell_type": "code",
   "execution_count": 275,
   "metadata": {},
   "outputs": [
    {
     "data": {
      "image/png": "[encoded data removed]",
      "text/plain": [
       "<Figure size 432x288 with 1 Axes>"
      ]
     },
     "metadata": {
      "needs_background": "light"
     },
     "output_type": "display_data"
    }
   ],
   "source": [
    "#Plotting default free price of option and analytical solution\n",
    "analytical_price = analytical_up_and_out_call(S_0, strike, barrier, risk_free, T)\n",
    "plt.plot([analytical_price+2]*50)\n",
    "plt.plot(up_and_out_call_estimate, '.')\n",
    "plt.plot(analytical_price + 3*np.array(up_and_out_call_std),'r')\n",
    "plt.plot(analytical_price - 3*np.array(up_and_out_call_std),'r')\n",
    "plt.xlabel(\"Sample Size in 1000\")\n",
    "plt.ylabel(\"Value\")\n",
    "plt.show()"
   ]
  },
  {
   "cell_type": "code",
   "execution_count": 276,
   "metadata": {},
   "outputs": [
    {
     "data": {
      "image/png": "[encoded data removed]",
      "text/plain": [
       "<Figure size 432x288 with 1 Axes>"
      ]
     },
     "metadata": {
      "needs_background": "light"
     },
     "output_type": "display_data"
    }
   ],
   "source": [
    "#Plotting CVA\n",
    "plt.plot(cva_estimate, '.')\n",
    "plt.show()"
   ]
  },
  {
   "cell_type": "code",
   "execution_count": 277,
   "metadata": {},
   "outputs": [
    {
     "data": {
      "image/png": "[encoded data removed]",
      "text/plain": [
       "<Figure size 432x288 with 1 Axes>"
      ]
     },
     "metadata": {
      "needs_background": "light"
     },
     "output_type": "display_data"
    }
   ],
   "source": [
    "#Question 9\n",
    "#Plotting price of option with counterparty risk\n",
    "plt.plot(default_up_and_out_call_estimate, '.')\n",
    "plt.show()"
   ]
  },
  {
   "cell_type": "code",
   "execution_count": null,
   "metadata": {},
   "outputs": [],
   "source": []
  }
 ],
 "metadata": {
  "kernelspec": {
   "display_name": "Python 3",
   "language": "python",
   "name": "python3"
  },
  "language_info": {
   "codemirror_mode": {
    "name": "ipython",
    "version": 3
   },
   "file_extension": ".py",
   "mimetype": "text/x-python",
   "name": "python",
   "nbconvert_exporter": "python",
   "pygments_lexer": "ipython3",
   "version": "3.8.3"
  }
 },
 "nbformat": 4,
 "nbformat_minor": 4
}
